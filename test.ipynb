{
 "cells": [
  {
   "cell_type": "code",
   "execution_count": 3,
   "metadata": {},
   "outputs": [
    {
     "name": "stderr",
     "output_type": "stream",
     "text": [
      "[nltk_data] Downloading package wordnet to /home/nitin/nltk_data...\n",
      "[nltk_data]   Package wordnet is already up-to-date!\n",
      "[nltk_data] Downloading package omw-1.4 to /home/nitin/nltk_data...\n",
      "[nltk_data]   Package omw-1.4 is already up-to-date!\n"
     ]
    }
   ],
   "source": [
    "import re\n",
    "import nltk\n",
    "from nltk import WordNetLemmatizer as wnl\n",
    "nltk.download(\"wordnet\")\n",
    "nltk.download(\"omw-1.4\")\n",
    "import csv\n"
   ]
  },
  {
   "cell_type": "code",
   "execution_count": 53,
   "metadata": {},
   "outputs": [],
   "source": [
    "class flost():\n",
    "    __metaclass__ = re,wnl\n",
    "    def __init__(self,db):\n",
    "        self.db = db\n",
    "        self.wnl = wnl()\n",
    "\n",
    "        # print(self.db.readlines())\n",
    "\n",
    "    def index_words(self):\n",
    "        index = {}\n",
    "        self.db.execute('select MainTag,Lostid from LOST')\n",
    "        print(self.db)\n",
    "        for item in self.db:\n",
    "            # print(index)\n",
    "            desc = item[0]\n",
    "            # print(line)\n",
    "            words = re.findall(r'\\w+',desc) # change to fetchall for sql db\n",
    "            for word in words:\n",
    "                word = word.lower()\n",
    "                if word in index:\n",
    "                    index[word].append(item[1])\n",
    "                else:\n",
    "                    index[word]=[item[1]]\n",
    "        print(index)\n",
    "        return index\n",
    "    \n",
    "    def remove_stop_words(self,index):\n",
    "        stop_words = {'a', 'an', 'the', 'and', 'or', 'in', 'on', 'at'}\n",
    "        for stop_word in stop_words:\n",
    "            if stop_word in index:\n",
    "                del index[stop_word]\n",
    "        return index\n",
    "    \n",
    "    def stemmer(self,index):\n",
    "        stm_idx={}\n",
    "        for word,count in index.items():\n",
    "            stm_word=self.wnl.lemmatize(word)\n",
    "            if stm_word in stm_idx:\n",
    "                stm_idx[stm_word]+=count\n",
    "            else:\n",
    "                stm_idx[stm_word]=count\n",
    "        return stm_idx\n",
    "    \n",
    "    def stemQueries(self,query):\n",
    "        stm_query = []\n",
    "        for word in query:\n",
    "            stm_word = self.wnl.lemmatize(word)\n",
    "            stm_query.append(word)\n",
    "\n",
    "        return stm_query\n",
    "            \n",
    "    \n",
    "    def search(self,query,index):\n",
    "        queryWords= re.findall(r'\\w+',query.lower())\n",
    "        stemmedQueries = self.stemQueries(queryWords)\n",
    "        results = {}\n",
    "        for word in stemmedQueries:\n",
    "            if word in index:\n",
    "                results[word] = index[word]\n",
    "        return results\n",
    "\n",
    "    def getItems(self,query):\n",
    "        F_index = self.index_words()\n",
    "        F_index = self.remove_stop_words(F_index)\n",
    "        F_index = self.stemmer(F_index)\n",
    "        results = self.search(query,F_index)\n",
    "        return results\n",
    "    \n",
    "\n"
   ]
  },
  {
   "cell_type": "code",
   "execution_count": 55,
   "metadata": {},
   "outputs": [
    {
     "name": "stdout",
     "output_type": "stream",
     "text": [
      "CMySQLCursor: select MainTag,Lostid from LOST\n",
      "{'electronics': [1], 'laptop': [2, 3, 4], 'asus': [2], 'rog': [2], 'flow': [2], 'hp': [3, 4], 'omen': [3], 'spectre': [4]}\n",
      "{'laptop': [2, 3, 4], 'asus': [2]}\n"
     ]
    }
   ],
   "source": [
    "import mysql.connector\n",
    "\n",
    "query = \"laptop asus\"\n",
    "\n",
    "mydb = mysql.connector.connect(\n",
    "    host=\"localhost\",\n",
    "    user=\"root\",\n",
    "    password=\"password\",\n",
    "    database=\"LAF\"\n",
    ")\n",
    "\n",
    "mycursor = mydb.cursor()\n",
    "\n",
    "fl = flost(mycursor)\n",
    "matches = fl.getItems(query)\n",
    "print(matches)"
   ]
  }
 ],
 "metadata": {
  "kernelspec": {
   "display_name": "Python 3",
   "language": "python",
   "name": "python3"
  },
  "language_info": {
   "codemirror_mode": {
    "name": "ipython",
    "version": 3
   },
   "file_extension": ".py",
   "mimetype": "text/x-python",
   "name": "python",
   "nbconvert_exporter": "python",
   "pygments_lexer": "ipython3",
   "version": "3.10.12"
  },
  "vscode": {
   "interpreter": {
    "hash": "916dbcbb3f70747c44a77c7bcd40155683ae19c65e1c03b4aa3499c5328201f1"
   }
  }
 },
 "nbformat": 4,
 "nbformat_minor": 2
}
